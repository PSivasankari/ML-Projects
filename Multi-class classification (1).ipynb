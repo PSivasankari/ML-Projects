{
 "cells": [
  {
   "cell_type": "markdown",
   "id": "b83fe168-08e3-4022-a540-14a474820d31",
   "metadata": {},
   "source": [
    "# SOFT-MAX ,ONE vs ONe and One vs All for multi class classification"
   ]
  },
  {
   "cell_type": "raw",
   "id": "71a41fd5-795d-4193-b40e-1d6bdcf7158b",
   "metadata": {},
   "source": [
    " In this lab, we will study how to convert a linear classifier into a multi-class classifier, including multinomial logistic regression or softmax regression, One vs/ All (One-vs-Rest) and One vs. One.\n",
    "\n",
    "    One vs. All (One-vs-Rest) and One vs. One are two other multi-class classification techniques can convert any two-class classifier into a multi-class classifier."
   ]
  },
  {
   "cell_type": "markdown",
   "id": "80851e2b-1e44-41ac-80c7-13b91a2a5611",
   "metadata": {},
   "source": [
    "softmax regression for logisticregression with multi-class labels not for "
   ]
  },
  {
   "cell_type": "code",
   "execution_count": 453,
   "id": "eb72fb73-18eb-42f2-b063-792705c544ac",
   "metadata": {},
   "outputs": [],
   "source": [
    "import pandas as pd \n",
    "import numpy as np\n",
    "import matplotlib.pyplot as plt\n",
    "from sklearn.linear_model import LogisticRegression\n",
    "from sklearn.metrics import accuracy_score\n",
    "from sklearn.svm import SVC\n",
    "df=pd.read_csv(\"C:\\\\Users\\\\sivas\\\\OneDrive\\\\Desktop\\\\Coursera\\\\IBM\\\\Machine learning\\\\iris.data.csv\",header=None)"
   ]
  },
  {
   "cell_type": "code",
   "execution_count": 455,
   "id": "194189a7-6052-4ea9-9c1b-037532b2daa7",
   "metadata": {},
   "outputs": [
    {
     "data": {
      "text/html": [
       "<div>\n",
       "<style scoped>\n",
       "    .dataframe tbody tr th:only-of-type {\n",
       "        vertical-align: middle;\n",
       "    }\n",
       "\n",
       "    .dataframe tbody tr th {\n",
       "        vertical-align: top;\n",
       "    }\n",
       "\n",
       "    .dataframe thead th {\n",
       "        text-align: right;\n",
       "    }\n",
       "</style>\n",
       "<table border=\"1\" class=\"dataframe\">\n",
       "  <thead>\n",
       "    <tr style=\"text-align: right;\">\n",
       "      <th></th>\n",
       "      <th>0</th>\n",
       "      <th>1</th>\n",
       "      <th>2</th>\n",
       "      <th>3</th>\n",
       "      <th>4</th>\n",
       "    </tr>\n",
       "  </thead>\n",
       "  <tbody>\n",
       "    <tr>\n",
       "      <th>0</th>\n",
       "      <td>5.1</td>\n",
       "      <td>3.5</td>\n",
       "      <td>1.4</td>\n",
       "      <td>0.2</td>\n",
       "      <td>Iris-setosa</td>\n",
       "    </tr>\n",
       "    <tr>\n",
       "      <th>1</th>\n",
       "      <td>4.9</td>\n",
       "      <td>3.0</td>\n",
       "      <td>1.4</td>\n",
       "      <td>0.2</td>\n",
       "      <td>Iris-setosa</td>\n",
       "    </tr>\n",
       "    <tr>\n",
       "      <th>2</th>\n",
       "      <td>4.7</td>\n",
       "      <td>3.2</td>\n",
       "      <td>1.3</td>\n",
       "      <td>0.2</td>\n",
       "      <td>Iris-setosa</td>\n",
       "    </tr>\n",
       "    <tr>\n",
       "      <th>3</th>\n",
       "      <td>4.6</td>\n",
       "      <td>3.1</td>\n",
       "      <td>1.5</td>\n",
       "      <td>0.2</td>\n",
       "      <td>Iris-setosa</td>\n",
       "    </tr>\n",
       "    <tr>\n",
       "      <th>4</th>\n",
       "      <td>5.0</td>\n",
       "      <td>3.6</td>\n",
       "      <td>1.4</td>\n",
       "      <td>0.2</td>\n",
       "      <td>Iris-setosa</td>\n",
       "    </tr>\n",
       "  </tbody>\n",
       "</table>\n",
       "</div>"
      ],
      "text/plain": [
       "     0    1    2    3            4\n",
       "0  5.1  3.5  1.4  0.2  Iris-setosa\n",
       "1  4.9  3.0  1.4  0.2  Iris-setosa\n",
       "2  4.7  3.2  1.3  0.2  Iris-setosa\n",
       "3  4.6  3.1  1.5  0.2  Iris-setosa\n",
       "4  5.0  3.6  1.4  0.2  Iris-setosa"
      ]
     },
     "execution_count": 455,
     "metadata": {},
     "output_type": "execute_result"
    }
   ],
   "source": [
    "df.head()"
   ]
  },
  {
   "cell_type": "markdown",
   "id": "5de7b524-3e44-47d5-8273-a84e46778177",
   "metadata": {},
   "source": [
    "DATA PRE-PROCESSING"
   ]
  },
  {
   "cell_type": "code",
   "execution_count": 457,
   "id": "6716f812-8e83-4d6e-be16-ced577b2d606",
   "metadata": {},
   "outputs": [
    {
     "data": {
      "text/html": [
       "<div>\n",
       "<style scoped>\n",
       "    .dataframe tbody tr th:only-of-type {\n",
       "        vertical-align: middle;\n",
       "    }\n",
       "\n",
       "    .dataframe tbody tr th {\n",
       "        vertical-align: top;\n",
       "    }\n",
       "\n",
       "    .dataframe thead th {\n",
       "        text-align: right;\n",
       "    }\n",
       "</style>\n",
       "<table border=\"1\" class=\"dataframe\">\n",
       "  <thead>\n",
       "    <tr style=\"text-align: right;\">\n",
       "      <th></th>\n",
       "      <th>0</th>\n",
       "      <th>1</th>\n",
       "      <th>2</th>\n",
       "      <th>3</th>\n",
       "    </tr>\n",
       "  </thead>\n",
       "  <tbody>\n",
       "    <tr>\n",
       "      <th>0</th>\n",
       "      <td>5.1</td>\n",
       "      <td>3.5</td>\n",
       "      <td>1.4</td>\n",
       "      <td>0.2</td>\n",
       "    </tr>\n",
       "    <tr>\n",
       "      <th>1</th>\n",
       "      <td>4.9</td>\n",
       "      <td>3.0</td>\n",
       "      <td>1.4</td>\n",
       "      <td>0.2</td>\n",
       "    </tr>\n",
       "    <tr>\n",
       "      <th>2</th>\n",
       "      <td>4.7</td>\n",
       "      <td>3.2</td>\n",
       "      <td>1.3</td>\n",
       "      <td>0.2</td>\n",
       "    </tr>\n",
       "    <tr>\n",
       "      <th>3</th>\n",
       "      <td>4.6</td>\n",
       "      <td>3.1</td>\n",
       "      <td>1.5</td>\n",
       "      <td>0.2</td>\n",
       "    </tr>\n",
       "    <tr>\n",
       "      <th>4</th>\n",
       "      <td>5.0</td>\n",
       "      <td>3.6</td>\n",
       "      <td>1.4</td>\n",
       "      <td>0.2</td>\n",
       "    </tr>\n",
       "  </tbody>\n",
       "</table>\n",
       "</div>"
      ],
      "text/plain": [
       "     0    1    2    3\n",
       "0  5.1  3.5  1.4  0.2\n",
       "1  4.9  3.0  1.4  0.2\n",
       "2  4.7  3.2  1.3  0.2\n",
       "3  4.6  3.1  1.5  0.2\n",
       "4  5.0  3.6  1.4  0.2"
      ]
     },
     "execution_count": 457,
     "metadata": {},
     "output_type": "execute_result"
    }
   ],
   "source": [
    "X=df.drop(4,axis=1)\n",
    "X[0:5]"
   ]
  },
  {
   "cell_type": "code",
   "execution_count": 458,
   "id": "47acac3d-7638-4a04-a3fa-70013575cc57",
   "metadata": {},
   "outputs": [
    {
     "data": {
      "text/plain": [
       "0    Iris-setosa\n",
       "1    Iris-setosa\n",
       "2    Iris-setosa\n",
       "3    Iris-setosa\n",
       "4    Iris-setosa\n",
       "Name: 4, dtype: object"
      ]
     },
     "execution_count": 458,
     "metadata": {},
     "output_type": "execute_result"
    }
   ],
   "source": [
    "y=df[4]\n",
    "y[0:5]"
   ]
  },
  {
   "cell_type": "code",
   "execution_count": 459,
   "id": "5ada8712-dc0f-43ef-96c3-3510458677fa",
   "metadata": {},
   "outputs": [
    {
     "data": {
      "text/plain": [
       "array(['Iris-setosa', 'Iris-versicolor', 'Iris-virginica'], dtype=object)"
      ]
     },
     "execution_count": 459,
     "metadata": {},
     "output_type": "execute_result"
    }
   ],
   "source": [
    "df[4].unique()"
   ]
  },
  {
   "cell_type": "code",
   "execution_count": 460,
   "id": "f801a5b9-8eed-4061-8393-a4c7a2bfacf6",
   "metadata": {},
   "outputs": [],
   "source": [
    "from sklearn.preprocessing import LabelEncoder"
   ]
  },
  {
   "cell_type": "code",
   "execution_count": 463,
   "id": "a3dc0d98-2702-4b65-98d6-420c12f1ff08",
   "metadata": {},
   "outputs": [],
   "source": [
    "l=LabelEncoder().fit(['Iris-setosa', 'Iris-versicolor', 'Iris-virginica'])"
   ]
  },
  {
   "cell_type": "code",
   "execution_count": 466,
   "id": "c7c1d236-e872-4088-839c-74648897a5a5",
   "metadata": {},
   "outputs": [
    {
     "data": {
      "text/plain": [
       "array([0, 0, 0, 0, 0, 0, 0, 0, 0, 0, 0, 0, 0, 0, 0, 0, 0, 0, 0, 0, 0, 0,\n",
       "       0, 0, 0, 0, 0, 0, 0, 0, 0, 0, 0, 0, 0, 0, 0, 0, 0, 0, 0, 0, 0, 0,\n",
       "       0, 0, 0, 0, 0, 0, 1, 1, 1, 1, 1, 1, 1, 1, 1, 1, 1, 1, 1, 1, 1, 1,\n",
       "       1, 1, 1, 1, 1, 1, 1, 1, 1, 1, 1, 1, 1, 1, 1, 1, 1, 1, 1, 1, 1, 1,\n",
       "       1, 1, 1, 1, 1, 1, 1, 1, 1, 1, 1, 1, 2, 2, 2, 2, 2, 2, 2, 2, 2, 2,\n",
       "       2, 2, 2, 2, 2, 2, 2, 2, 2, 2, 2, 2, 2, 2, 2, 2, 2, 2, 2, 2, 2, 2,\n",
       "       2, 2, 2, 2, 2, 2, 2, 2, 2, 2, 2, 2, 2, 2, 2, 2, 2, 2])"
      ]
     },
     "execution_count": 466,
     "metadata": {},
     "output_type": "execute_result"
    }
   ],
   "source": [
    "y=l.transform(y)\n",
    "y"
   ]
  },
  {
   "cell_type": "code",
   "execution_count": null,
   "id": "e800a8a5-3625-478b-9ad8-495b6988e939",
   "metadata": {},
   "outputs": [],
   "source": []
  },
  {
   "cell_type": "code",
   "execution_count": 468,
   "id": "a8d4daf9-adf3-4efb-95ba-5aba99f1c6ba",
   "metadata": {},
   "outputs": [
    {
     "data": {
      "text/plain": [
       "array([0, 1, 2])"
      ]
     },
     "execution_count": 468,
     "metadata": {},
     "output_type": "execute_result"
    }
   ],
   "source": [
    "import numpy as np\n",
    "np.unique(y)"
   ]
  },
  {
   "cell_type": "code",
   "execution_count": 470,
   "id": "6cd39c6e-2880-418e-abcf-95498bbdb781",
   "metadata": {},
   "outputs": [],
   "source": [
    "import matplotlib.pyplot as plt"
   ]
  },
  {
   "cell_type": "code",
   "execution_count": 471,
   "id": "8f348fb5-8931-4145-b335-721fd7b864fb",
   "metadata": {
    "scrolled": true
   },
   "outputs": [
    {
     "data": {
      "text/plain": [
       "array([[5.1, 3.5, 1.4, 0.2],\n",
       "       [4.9, 3. , 1.4, 0.2],\n",
       "       [4.7, 3.2, 1.3, 0.2],\n",
       "       [4.6, 3.1, 1.5, 0.2],\n",
       "       [5. , 3.6, 1.4, 0.2],\n",
       "       [5.4, 3.9, 1.7, 0.4],\n",
       "       [4.6, 3.4, 1.4, 0.3],\n",
       "       [5. , 3.4, 1.5, 0.2],\n",
       "       [4.4, 2.9, 1.4, 0.2],\n",
       "       [4.9, 3.1, 1.5, 0.1],\n",
       "       [5.4, 3.7, 1.5, 0.2],\n",
       "       [4.8, 3.4, 1.6, 0.2],\n",
       "       [4.8, 3. , 1.4, 0.1],\n",
       "       [4.3, 3. , 1.1, 0.1],\n",
       "       [5.8, 4. , 1.2, 0.2],\n",
       "       [5.7, 4.4, 1.5, 0.4],\n",
       "       [5.4, 3.9, 1.3, 0.4],\n",
       "       [5.1, 3.5, 1.4, 0.3],\n",
       "       [5.7, 3.8, 1.7, 0.3],\n",
       "       [5.1, 3.8, 1.5, 0.3],\n",
       "       [5.4, 3.4, 1.7, 0.2],\n",
       "       [5.1, 3.7, 1.5, 0.4],\n",
       "       [4.6, 3.6, 1. , 0.2],\n",
       "       [5.1, 3.3, 1.7, 0.5],\n",
       "       [4.8, 3.4, 1.9, 0.2],\n",
       "       [5. , 3. , 1.6, 0.2],\n",
       "       [5. , 3.4, 1.6, 0.4],\n",
       "       [5.2, 3.5, 1.5, 0.2],\n",
       "       [5.2, 3.4, 1.4, 0.2],\n",
       "       [4.7, 3.2, 1.6, 0.2],\n",
       "       [4.8, 3.1, 1.6, 0.2],\n",
       "       [5.4, 3.4, 1.5, 0.4],\n",
       "       [5.2, 4.1, 1.5, 0.1],\n",
       "       [5.5, 4.2, 1.4, 0.2],\n",
       "       [4.9, 3.1, 1.5, 0.1],\n",
       "       [5. , 3.2, 1.2, 0.2],\n",
       "       [5.5, 3.5, 1.3, 0.2],\n",
       "       [4.9, 3.1, 1.5, 0.1],\n",
       "       [4.4, 3. , 1.3, 0.2],\n",
       "       [5.1, 3.4, 1.5, 0.2],\n",
       "       [5. , 3.5, 1.3, 0.3],\n",
       "       [4.5, 2.3, 1.3, 0.3],\n",
       "       [4.4, 3.2, 1.3, 0.2],\n",
       "       [5. , 3.5, 1.6, 0.6],\n",
       "       [5.1, 3.8, 1.9, 0.4],\n",
       "       [4.8, 3. , 1.4, 0.3],\n",
       "       [5.1, 3.8, 1.6, 0.2],\n",
       "       [4.6, 3.2, 1.4, 0.2],\n",
       "       [5.3, 3.7, 1.5, 0.2],\n",
       "       [5. , 3.3, 1.4, 0.2],\n",
       "       [7. , 3.2, 4.7, 1.4],\n",
       "       [6.4, 3.2, 4.5, 1.5],\n",
       "       [6.9, 3.1, 4.9, 1.5],\n",
       "       [5.5, 2.3, 4. , 1.3],\n",
       "       [6.5, 2.8, 4.6, 1.5],\n",
       "       [5.7, 2.8, 4.5, 1.3],\n",
       "       [6.3, 3.3, 4.7, 1.6],\n",
       "       [4.9, 2.4, 3.3, 1. ],\n",
       "       [6.6, 2.9, 4.6, 1.3],\n",
       "       [5.2, 2.7, 3.9, 1.4],\n",
       "       [5. , 2. , 3.5, 1. ],\n",
       "       [5.9, 3. , 4.2, 1.5],\n",
       "       [6. , 2.2, 4. , 1. ],\n",
       "       [6.1, 2.9, 4.7, 1.4],\n",
       "       [5.6, 2.9, 3.6, 1.3],\n",
       "       [6.7, 3.1, 4.4, 1.4],\n",
       "       [5.6, 3. , 4.5, 1.5],\n",
       "       [5.8, 2.7, 4.1, 1. ],\n",
       "       [6.2, 2.2, 4.5, 1.5],\n",
       "       [5.6, 2.5, 3.9, 1.1],\n",
       "       [5.9, 3.2, 4.8, 1.8],\n",
       "       [6.1, 2.8, 4. , 1.3],\n",
       "       [6.3, 2.5, 4.9, 1.5],\n",
       "       [6.1, 2.8, 4.7, 1.2],\n",
       "       [6.4, 2.9, 4.3, 1.3],\n",
       "       [6.6, 3. , 4.4, 1.4],\n",
       "       [6.8, 2.8, 4.8, 1.4],\n",
       "       [6.7, 3. , 5. , 1.7],\n",
       "       [6. , 2.9, 4.5, 1.5],\n",
       "       [5.7, 2.6, 3.5, 1. ],\n",
       "       [5.5, 2.4, 3.8, 1.1],\n",
       "       [5.5, 2.4, 3.7, 1. ],\n",
       "       [5.8, 2.7, 3.9, 1.2],\n",
       "       [6. , 2.7, 5.1, 1.6],\n",
       "       [5.4, 3. , 4.5, 1.5],\n",
       "       [6. , 3.4, 4.5, 1.6],\n",
       "       [6.7, 3.1, 4.7, 1.5],\n",
       "       [6.3, 2.3, 4.4, 1.3],\n",
       "       [5.6, 3. , 4.1, 1.3],\n",
       "       [5.5, 2.5, 4. , 1.3],\n",
       "       [5.5, 2.6, 4.4, 1.2],\n",
       "       [6.1, 3. , 4.6, 1.4],\n",
       "       [5.8, 2.6, 4. , 1.2],\n",
       "       [5. , 2.3, 3.3, 1. ],\n",
       "       [5.6, 2.7, 4.2, 1.3],\n",
       "       [5.7, 3. , 4.2, 1.2],\n",
       "       [5.7, 2.9, 4.2, 1.3],\n",
       "       [6.2, 2.9, 4.3, 1.3],\n",
       "       [5.1, 2.5, 3. , 1.1],\n",
       "       [5.7, 2.8, 4.1, 1.3],\n",
       "       [6.3, 3.3, 6. , 2.5],\n",
       "       [5.8, 2.7, 5.1, 1.9],\n",
       "       [7.1, 3. , 5.9, 2.1],\n",
       "       [6.3, 2.9, 5.6, 1.8],\n",
       "       [6.5, 3. , 5.8, 2.2],\n",
       "       [7.6, 3. , 6.6, 2.1],\n",
       "       [4.9, 2.5, 4.5, 1.7],\n",
       "       [7.3, 2.9, 6.3, 1.8],\n",
       "       [6.7, 2.5, 5.8, 1.8],\n",
       "       [7.2, 3.6, 6.1, 2.5],\n",
       "       [6.5, 3.2, 5.1, 2. ],\n",
       "       [6.4, 2.7, 5.3, 1.9],\n",
       "       [6.8, 3. , 5.5, 2.1],\n",
       "       [5.7, 2.5, 5. , 2. ],\n",
       "       [5.8, 2.8, 5.1, 2.4],\n",
       "       [6.4, 3.2, 5.3, 2.3],\n",
       "       [6.5, 3. , 5.5, 1.8],\n",
       "       [7.7, 3.8, 6.7, 2.2],\n",
       "       [7.7, 2.6, 6.9, 2.3],\n",
       "       [6. , 2.2, 5. , 1.5],\n",
       "       [6.9, 3.2, 5.7, 2.3],\n",
       "       [5.6, 2.8, 4.9, 2. ],\n",
       "       [7.7, 2.8, 6.7, 2. ],\n",
       "       [6.3, 2.7, 4.9, 1.8],\n",
       "       [6.7, 3.3, 5.7, 2.1],\n",
       "       [7.2, 3.2, 6. , 1.8],\n",
       "       [6.2, 2.8, 4.8, 1.8],\n",
       "       [6.1, 3. , 4.9, 1.8],\n",
       "       [6.4, 2.8, 5.6, 2.1],\n",
       "       [7.2, 3. , 5.8, 1.6],\n",
       "       [7.4, 2.8, 6.1, 1.9],\n",
       "       [7.9, 3.8, 6.4, 2. ],\n",
       "       [6.4, 2.8, 5.6, 2.2],\n",
       "       [6.3, 2.8, 5.1, 1.5],\n",
       "       [6.1, 2.6, 5.6, 1.4],\n",
       "       [7.7, 3. , 6.1, 2.3],\n",
       "       [6.3, 3.4, 5.6, 2.4],\n",
       "       [6.4, 3.1, 5.5, 1.8],\n",
       "       [6. , 3. , 4.8, 1.8],\n",
       "       [6.9, 3.1, 5.4, 2.1],\n",
       "       [6.7, 3.1, 5.6, 2.4],\n",
       "       [6.9, 3.1, 5.1, 2.3],\n",
       "       [5.8, 2.7, 5.1, 1.9],\n",
       "       [6.8, 3.2, 5.9, 2.3],\n",
       "       [6.7, 3.3, 5.7, 2.5],\n",
       "       [6.7, 3. , 5.2, 2.3],\n",
       "       [6.3, 2.5, 5. , 1.9],\n",
       "       [6.5, 3. , 5.2, 2. ],\n",
       "       [6.2, 3.4, 5.4, 2.3],\n",
       "       [5.9, 3. , 5.1, 1.8]])"
      ]
     },
     "execution_count": 471,
     "metadata": {},
     "output_type": "execute_result"
    }
   ],
   "source": [
    "X=np.asarray(X)\n",
    "X"
   ]
  },
  {
   "cell_type": "code",
   "execution_count": 476,
   "id": "e853a13d-4301-4c52-87ec-91f3d49ed3cf",
   "metadata": {},
   "outputs": [
    {
     "data": {
      "text/plain": [
       "array([0, 0, 0, 0, 0, 0, 0, 0, 0, 0, 0, 0, 0, 0, 0, 0, 0, 0, 0, 0, 0, 0,\n",
       "       0, 0, 0, 0, 0, 0, 0, 0, 0, 0, 0, 0, 0, 0, 0, 0, 0, 0, 0, 0, 0, 0,\n",
       "       0, 0, 0, 0, 0, 0, 1, 1, 1, 1, 1, 1, 1, 1, 1, 1, 1, 1, 1, 1, 1, 1,\n",
       "       1, 1, 1, 1, 1, 1, 1, 1, 1, 1, 1, 1, 1, 1, 1, 1, 1, 1, 1, 1, 1, 1,\n",
       "       1, 1, 1, 1, 1, 1, 1, 1, 1, 1, 1, 1, 2, 2, 2, 2, 2, 2, 2, 2, 2, 2,\n",
       "       2, 2, 2, 2, 2, 2, 2, 2, 2, 2, 2, 2, 2, 2, 2, 2, 2, 2, 2, 2, 2, 2,\n",
       "       2, 2, 2, 2, 2, 2, 2, 2, 2, 2, 2, 2, 2, 2, 2, 2, 2, 2])"
      ]
     },
     "execution_count": 476,
     "metadata": {},
     "output_type": "execute_result"
    }
   ],
   "source": [
    "X=X[:,[1,3]]\n",
    "X\n",
    "y"
   ]
  },
  {
   "cell_type": "code",
   "execution_count": 478,
   "id": "f95fd22b-bf75-4224-afd4-b7e62ac49a31",
   "metadata": {},
   "outputs": [
    {
     "data": {
      "text/plain": [
       "array([0, 0, 0, 0, 0, 0, 0, 0, 0, 0, 0, 0, 0, 0, 0, 0, 0, 0, 0, 0, 0, 0,\n",
       "       0, 0, 0, 0, 0, 0, 0, 0, 0, 0, 0, 0, 0, 0, 0, 0, 0, 0, 0, 0, 0, 0,\n",
       "       0, 0, 0, 0, 0, 0, 1, 1, 1, 1, 1, 1, 1, 1, 1, 1, 1, 1, 1, 1, 1, 1,\n",
       "       1, 1, 1, 1, 1, 1, 1, 1, 1, 1, 1, 1, 1, 1, 1, 1, 1, 1, 1, 1, 1, 1,\n",
       "       1, 1, 1, 1, 1, 1, 1, 1, 1, 1, 1, 1, 2, 2, 2, 2, 2, 2, 2, 2, 2, 2,\n",
       "       2, 2, 2, 2, 2, 2, 2, 2, 2, 2, 2, 2, 2, 2, 2, 2, 2, 2, 2, 2, 2, 2,\n",
       "       2, 2, 2, 2, 2, 2, 2, 2, 2, 2, 2, 2, 2, 2, 2, 2, 2, 2])"
      ]
     },
     "execution_count": 478,
     "metadata": {},
     "output_type": "execute_result"
    }
   ],
   "source": [
    "y=np.asarray(y)\n",
    "y"
   ]
  },
  {
   "cell_type": "code",
   "execution_count": 433,
   "id": "0a9adeaa-4067-4303-8294-5a04420e05c9",
   "metadata": {},
   "outputs": [
    {
     "data": {
      "text/plain": [
       "Text(0, 0.5, 'petal width')"
      ]
     },
     "execution_count": 433,
     "metadata": {},
     "output_type": "execute_result"
    },
    {
     "data": {
      "image/png": "[encoded data removed]",
      "text/plain": [
       "<Figure size 640x480 with 1 Axes>"
      ]
     },
     "metadata": {},
     "output_type": "display_data"
    }
   ],
   "source": [
    "plt.scatter(X[:,0],X[:,1],c=y,cmap=plt.cm.RdYlBu)\n",
    "plt.xlabel(\"sepal width\")\n",
    "plt.ylabel(\"petal width\")"
   ]
  },
  {
   "cell_type": "markdown",
   "id": "745bf942-157e-436d-81f1-eda764055035",
   "metadata": {},
   "source": [
    " # LOGISTIC REGRESSION"
   ]
  },
  {
   "cell_type": "code",
   "execution_count": 3,
   "id": "1c1d95e0-7953-4759-9533-20414194879e",
   "metadata": {},
   "outputs": [],
   "source": [
    "from sklearn.linear_model import LogisticRegression"
   ]
  },
  {
   "cell_type": "code",
   "execution_count": 437,
   "id": "a05a5ee9-b973-4d17-bc71-edcb7df5836f",
   "metadata": {},
   "outputs": [],
   "source": [
    "lr=LogisticRegression(random_state=0)"
   ]
  },
  {
   "cell_type": "code",
   "execution_count": 439,
   "id": "22b96d7a-5b0b-45cb-8ebc-a1681a132260",
   "metadata": {},
   "outputs": [
    {
     "data": {
      "text/html": [
       "<style>#sk-container-id-6 {color: black;background-color: white;}#sk-container-id-6 pre{padding: 0;}#sk-container-id-6 div.sk-toggleable {background-color: white;}#sk-container-id-6 label.sk-toggleable__label {cursor: pointer;display: block;width: 100%;margin-bottom: 0;padding: 0.3em;box-sizing: border-box;text-align: center;}#sk-container-id-6 label.sk-toggleable__label-arrow:before {content: \"▸\";float: left;margin-right: 0.25em;color: #696969;}#sk-container-id-6 label.sk-toggleable__label-arrow:hover:before {color: black;}#sk-container-id-6 div.sk-estimator:hover label.sk-toggleable__label-arrow:before {color: black;}#sk-container-id-6 div.sk-toggleable__content {max-height: 0;max-width: 0;overflow: hidden;text-align: left;background-color: #f0f8ff;}#sk-container-id-6 div.sk-toggleable__content pre {margin: 0.2em;color: black;border-radius: 0.25em;background-color: #f0f8ff;}#sk-container-id-6 input.sk-toggleable__control:checked~div.sk-toggleable__content {max-height: 200px;max-width: 100%;overflow: auto;}#sk-container-id-6 input.sk-toggleable__control:checked~label.sk-toggleable__label-arrow:before {content: \"▾\";}#sk-container-id-6 div.sk-estimator input.sk-toggleable__control:checked~label.sk-toggleable__label {background-color: #d4ebff;}#sk-container-id-6 div.sk-label input.sk-toggleable__control:checked~label.sk-toggleable__label {background-color: #d4ebff;}#sk-container-id-6 input.sk-hidden--visually {border: 0;clip: rect(1px 1px 1px 1px);clip: rect(1px, 1px, 1px, 1px);height: 1px;margin: -1px;overflow: hidden;padding: 0;position: absolute;width: 1px;}#sk-container-id-6 div.sk-estimator {font-family: monospace;background-color: #f0f8ff;border: 1px dotted black;border-radius: 0.25em;box-sizing: border-box;margin-bottom: 0.5em;}#sk-container-id-6 div.sk-estimator:hover {background-color: #d4ebff;}#sk-container-id-6 div.sk-parallel-item::after {content: \"\";width: 100%;border-bottom: 1px solid gray;flex-grow: 1;}#sk-container-id-6 div.sk-label:hover label.sk-toggleable__label {background-color: #d4ebff;}#sk-container-id-6 div.sk-serial::before {content: \"\";position: absolute;border-left: 1px solid gray;box-sizing: border-box;top: 0;bottom: 0;left: 50%;z-index: 0;}#sk-container-id-6 div.sk-serial {display: flex;flex-direction: column;align-items: center;background-color: white;padding-right: 0.2em;padding-left: 0.2em;position: relative;}#sk-container-id-6 div.sk-item {position: relative;z-index: 1;}#sk-container-id-6 div.sk-parallel {display: flex;align-items: stretch;justify-content: center;background-color: white;position: relative;}#sk-container-id-6 div.sk-item::before, #sk-container-id-6 div.sk-parallel-item::before {content: \"\";position: absolute;border-left: 1px solid gray;box-sizing: border-box;top: 0;bottom: 0;left: 50%;z-index: -1;}#sk-container-id-6 div.sk-parallel-item {display: flex;flex-direction: column;z-index: 1;position: relative;background-color: white;}#sk-container-id-6 div.sk-parallel-item:first-child::after {align-self: flex-end;width: 50%;}#sk-container-id-6 div.sk-parallel-item:last-child::after {align-self: flex-start;width: 50%;}#sk-container-id-6 div.sk-parallel-item:only-child::after {width: 0;}#sk-container-id-6 div.sk-dashed-wrapped {border: 1px dashed gray;margin: 0 0.4em 0.5em 0.4em;box-sizing: border-box;padding-bottom: 0.4em;background-color: white;}#sk-container-id-6 div.sk-label label {font-family: monospace;font-weight: bold;display: inline-block;line-height: 1.2em;}#sk-container-id-6 div.sk-label-container {text-align: center;}#sk-container-id-6 div.sk-container {/* jupyter's `normalize.less` sets `[hidden] { display: none; }` but bootstrap.min.css set `[hidden] { display: none !important; }` so we also need the `!important` here to be able to override the default hidden behavior on the sphinx rendered scikit-learn.org. See: https://github.com/scikit-learn/scikit-learn/issues/21755 */display: inline-block !important;position: relative;}#sk-container-id-6 div.sk-text-repr-fallback {display: none;}</style><div id=\"sk-container-id-6\" class=\"sk-top-container\"><div class=\"sk-text-repr-fallback\"><pre>LogisticRegression(random_state=0)</pre><b>In a Jupyter environment, please rerun this cell to show the HTML representation or trust the notebook. <br />On GitHub, the HTML representation is unable to render, please try loading this page with nbviewer.org.</b></div><div class=\"sk-container\" hidden><div class=\"sk-item\"><div class=\"sk-estimator sk-toggleable\"><input class=\"sk-toggleable__control sk-hidden--visually\" id=\"sk-estimator-id-6\" type=\"checkbox\" checked><label for=\"sk-estimator-id-6\" class=\"sk-toggleable__label sk-toggleable__label-arrow\">LogisticRegression</label><div class=\"sk-toggleable__content\"><pre>LogisticRegression(random_state=0)</pre></div></div></div></div></div>"
      ],
      "text/plain": [
       "LogisticRegression(random_state=0)"
      ]
     },
     "execution_count": 439,
     "metadata": {},
     "output_type": "execute_result"
    }
   ],
   "source": [
    "lr.fit(X,y)"
   ]
  },
  {
   "cell_type": "code",
   "execution_count": 318,
   "id": "4f3659c9-53cf-4dc6-b919-95fd7711a6c6",
   "metadata": {},
   "outputs": [],
   "source": [
    "prob=lr.predict_proba(X)"
   ]
  },
  {
   "cell_type": "code",
   "execution_count": 320,
   "id": "cd16dd5c-42a1-4af4-abb3-b527a1584065",
   "metadata": {},
   "outputs": [
    {
     "data": {
      "text/plain": [
       "array([9.57839273e-01, 4.20647846e-02, 9.59427876e-05])"
      ]
     },
     "execution_count": 320,
     "metadata": {},
     "output_type": "execute_result"
    }
   ],
   "source": [
    "prob[0,]# probability of 1st row"
   ]
  },
  {
   "cell_type": "code",
   "execution_count": 322,
   "id": "2e8c53d2-dfab-404a-89c7-429ddc41e210",
   "metadata": {},
   "outputs": [
    {
     "data": {
      "text/plain": [
       "1.0"
      ]
     },
     "execution_count": 322,
     "metadata": {},
     "output_type": "execute_result"
    }
   ],
   "source": [
    "prob[0].sum() #total 1"
   ]
  },
  {
   "cell_type": "code",
   "execution_count": 324,
   "id": "4d60a53c-9c29-411a-b009-5da31c95a8a1",
   "metadata": {},
   "outputs": [
    {
     "data": {
      "text/plain": [
       "0"
      ]
     },
     "execution_count": 324,
     "metadata": {},
     "output_type": "execute_result"
    }
   ],
   "source": [
    "np.argmax(prob[0])"
   ]
  },
  {
   "cell_type": "code",
   "execution_count": 326,
   "id": "a04404e5-b924-49aa-9bf2-02eb181a5f77",
   "metadata": {},
   "outputs": [],
   "source": [
    "soft_max=np.argmax(prob,axis=1)"
   ]
  },
  {
   "cell_type": "code",
   "execution_count": 328,
   "id": "ebd79000-7f3b-494e-b31d-a74f04ea07e9",
   "metadata": {},
   "outputs": [
    {
     "data": {
      "text/plain": [
       "array([0, 0, 0, 0, 0, 0, 0, 0, 0, 0, 0, 0, 0, 0, 0, 0, 0, 0, 0, 0, 0, 0,\n",
       "       0, 0, 0, 0, 0, 0, 0, 0, 0, 0, 0, 0, 0, 0, 0, 0, 0, 0, 0, 0, 0, 0,\n",
       "       0, 0, 0, 0, 0, 0, 1, 1, 1, 1, 1, 1, 1, 1, 1, 1, 1, 1, 1, 1, 1, 1,\n",
       "       1, 1, 1, 1, 2, 1, 1, 1, 1, 1, 1, 2, 1, 1, 1, 1, 1, 1, 1, 1, 1, 1,\n",
       "       1, 1, 1, 1, 1, 1, 1, 1, 1, 1, 1, 1, 2, 2, 2, 2, 2, 2, 2, 2, 2, 2,\n",
       "       2, 2, 2, 2, 2, 2, 2, 2, 2, 1, 2, 2, 2, 2, 2, 2, 2, 2, 2, 1, 2, 2,\n",
       "       2, 1, 1, 2, 2, 2, 2, 2, 2, 2, 2, 2, 2, 2, 2, 2, 2, 2], dtype=int64)"
      ]
     },
     "execution_count": 328,
     "metadata": {},
     "output_type": "execute_result"
    }
   ],
   "source": [
    "soft_max"
   ]
  },
  {
   "cell_type": "code",
   "execution_count": 330,
   "id": "0929d3cd-7bae-4669-a7c7-e00ef28d9e01",
   "metadata": {},
   "outputs": [
    {
     "data": {
      "text/plain": [
       "array([0, 0, 0, 0, 0, 0, 0, 0, 0, 0, 0, 0, 0, 0, 0, 0, 0, 0, 0, 0, 0, 0,\n",
       "       0, 0, 0, 0, 0, 0, 0, 0, 0, 0, 0, 0, 0, 0, 0, 0, 0, 0, 0, 0, 0, 0,\n",
       "       0, 0, 0, 0, 0, 0, 1, 1, 1, 1, 1, 1, 1, 1, 1, 1, 1, 1, 1, 1, 1, 1,\n",
       "       1, 1, 1, 1, 2, 1, 1, 1, 1, 1, 1, 2, 1, 1, 1, 1, 1, 1, 1, 1, 1, 1,\n",
       "       1, 1, 1, 1, 1, 1, 1, 1, 1, 1, 1, 1, 2, 2, 2, 2, 2, 2, 2, 2, 2, 2,\n",
       "       2, 2, 2, 2, 2, 2, 2, 2, 2, 1, 2, 2, 2, 2, 2, 2, 2, 2, 2, 1, 2, 2,\n",
       "       2, 1, 1, 2, 2, 2, 2, 2, 2, 2, 2, 2, 2, 2, 2, 2, 2, 2])"
      ]
     },
     "execution_count": 330,
     "metadata": {},
     "output_type": "execute_result"
    }
   ],
   "source": [
    "yhat=lr.predict(X)\n",
    "yhat"
   ]
  },
  {
   "cell_type": "markdown",
   "id": "5dec789a-6491-475b-a0ab-9aa7e54d4891",
   "metadata": {},
   "source": [
    "EVALUATION"
   ]
  },
  {
   "cell_type": "code",
   "execution_count": 332,
   "id": "ef3ff3d5-6a81-4a1d-9536-ed812bf3483f",
   "metadata": {},
   "outputs": [],
   "source": [
    "from sklearn.metrics import accuracy_score"
   ]
  },
  {
   "cell_type": "code",
   "execution_count": 334,
   "id": "3be0cbb3-ac67-4a93-83ef-9aa0102b6043",
   "metadata": {},
   "outputs": [
    {
     "data": {
      "text/plain": [
       "1.0"
      ]
     },
     "execution_count": 334,
     "metadata": {},
     "output_type": "execute_result"
    }
   ],
   "source": [
    "accuracy_score(yhat,soft_max)"
   ]
  },
  {
   "cell_type": "code",
   "execution_count": 336,
   "id": "bf4d39b3-81b2-4e88-8a3a-1029635afa46",
   "metadata": {},
   "outputs": [
    {
     "data": {
      "image/png": "[encoded data removed]",
      "text/plain": [
       "<Figure size 640x480 with 2 Axes>"
      ]
     },
     "metadata": {},
     "output_type": "display_data"
    }
   ],
   "source": [
    "def plot_probability_array(x,probability):\n",
    "    plot_array=np.zeros((X.shape[0],30)) #(150,30) np.zeros\n",
    "    col_start=0\n",
    "    for clas,col_end in enumerate([10,20,30]): #clas is index its same as labels in the dataset\n",
    "        plot_array[:,col_start:col_end]=np.repeat(prob[:,clas].reshape(-1,1),10,axis=1)  # 0 to 10 columns it repeat the 0 classes to 10 time\n",
    "        col_start=col_end\n",
    "    plt.imshow(plot_array)\n",
    "    plt.xlabel(\"probability of 3 classes\")\n",
    "    plt.ylabel(\"samples\")\n",
    "    plt.xticks([])\n",
    "    plt.colorbar()\n",
    "    plt.show()\n",
    "\n",
    "plot_probability_array(X,prob)"
   ]
  },
  {
   "cell_type": "code",
   "execution_count": 338,
   "id": "40f30d05-8880-40f8-8486-499f9551bccd",
   "metadata": {},
   "outputs": [
    {
     "data": {
      "text/plain": [
       "array([[0., 0., 0., ..., 0., 0., 0.],\n",
       "       [0., 0., 0., ..., 0., 0., 0.],\n",
       "       [0., 0., 0., ..., 0., 0., 0.],\n",
       "       ...,\n",
       "       [0., 0., 0., ..., 0., 0., 0.],\n",
       "       [0., 0., 0., ..., 0., 0., 0.],\n",
       "       [0., 0., 0., ..., 0., 0., 0.]])"
      ]
     },
     "execution_count": 338,
     "metadata": {},
     "output_type": "execute_result"
    }
   ],
   "source": [
    "np.zeros((X.shape[0],30))"
   ]
  },
  {
   "cell_type": "code",
   "execution_count": 340,
   "id": "840602f0-9042-42ad-90d0-979358bd3d9b",
   "metadata": {},
   "outputs": [
    {
     "data": {
      "text/plain": [
       "(150, 30)"
      ]
     },
     "execution_count": 340,
     "metadata": {},
     "output_type": "execute_result"
    }
   ],
   "source": [
    "np.zeros((X.shape[0],30)).shape"
   ]
  },
  {
   "cell_type": "code",
   "execution_count": 342,
   "id": "8cc0c60d-1a7a-46a2-bc3d-0dc89ca3d04e",
   "metadata": {},
   "outputs": [
    {
     "name": "stdout",
     "output_type": "stream",
     "text": [
      "0\n",
      "10\n",
      "1\n",
      "20\n",
      "2\n",
      "30\n"
     ]
    }
   ],
   "source": [
    "for cla_,col_d in enumerate([10,20,30]): # in enumerate returns firstclasses,next the number in the list like(0,10)\n",
    "    print(cla_)\n",
    "    print(col_d)"
   ]
  },
  {
   "cell_type": "code",
   "execution_count": 344,
   "id": "c35efad0-fc37-486e-9902-376c1678d616",
   "metadata": {},
   "outputs": [
    {
     "name": "stdout",
     "output_type": "stream",
     "text": [
      "(0, 0)\n",
      "(1, 21)\n",
      "(2, 2112)\n"
     ]
    }
   ],
   "source": [
    "for o in enumerate([0,21,2112]):\n",
    "    print(o)"
   ]
  },
  {
   "cell_type": "code",
   "execution_count": 346,
   "id": "69398f42-9acf-4d14-ab65-86acc622d6bc",
   "metadata": {},
   "outputs": [
    {
     "data": {
      "text/plain": [
       "(150, 2)"
      ]
     },
     "execution_count": 346,
     "metadata": {},
     "output_type": "execute_result"
    }
   ],
   "source": [
    "X.shape"
   ]
  },
  {
   "cell_type": "code",
   "execution_count": 348,
   "id": "306f4877-ec59-4612-920d-0e327e16fac2",
   "metadata": {},
   "outputs": [
    {
     "data": {
      "text/plain": [
       "(150, 3)"
      ]
     },
     "execution_count": 348,
     "metadata": {},
     "output_type": "execute_result"
    }
   ],
   "source": [
    "prob.shape"
   ]
  },
  {
   "cell_type": "markdown",
   "id": "f0c88292-2756-4556-9cf5-f97e1da21ee7",
   "metadata": {},
   "source": [
    "# We can't use Softmax regression for SVMs, Let's explore two methods of Multi-class Classification that we can apply to SVM."
   ]
  },
  {
   "cell_type": "markdown",
   "id": "9b3d2e57-1410-4fae-beab-5b8b74fe5e24",
   "metadata": {},
   "source": [
    "# SVM"
   ]
  },
  {
   "cell_type": "code",
   "execution_count": 352,
   "id": "597abbb1-d84e-4b7c-834a-b0115252cba3",
   "metadata": {},
   "outputs": [],
   "source": [
    "svm=SVC(kernel='linear',gamma=0.5,probability=True)"
   ]
  },
  {
   "cell_type": "code",
   "execution_count": 354,
   "id": "db99ba33-635e-4542-975b-7bdb12996209",
   "metadata": {},
   "outputs": [
    {
     "data": {
      "text/html": [
       "<style>#sk-container-id-5 {color: black;background-color: white;}#sk-container-id-5 pre{padding: 0;}#sk-container-id-5 div.sk-toggleable {background-color: white;}#sk-container-id-5 label.sk-toggleable__label {cursor: pointer;display: block;width: 100%;margin-bottom: 0;padding: 0.3em;box-sizing: border-box;text-align: center;}#sk-container-id-5 label.sk-toggleable__label-arrow:before {content: \"▸\";float: left;margin-right: 0.25em;color: #696969;}#sk-container-id-5 label.sk-toggleable__label-arrow:hover:before {color: black;}#sk-container-id-5 div.sk-estimator:hover label.sk-toggleable__label-arrow:before {color: black;}#sk-container-id-5 div.sk-toggleable__content {max-height: 0;max-width: 0;overflow: hidden;text-align: left;background-color: #f0f8ff;}#sk-container-id-5 div.sk-toggleable__content pre {margin: 0.2em;color: black;border-radius: 0.25em;background-color: #f0f8ff;}#sk-container-id-5 input.sk-toggleable__control:checked~div.sk-toggleable__content {max-height: 200px;max-width: 100%;overflow: auto;}#sk-container-id-5 input.sk-toggleable__control:checked~label.sk-toggleable__label-arrow:before {content: \"▾\";}#sk-container-id-5 div.sk-estimator input.sk-toggleable__control:checked~label.sk-toggleable__label {background-color: #d4ebff;}#sk-container-id-5 div.sk-label input.sk-toggleable__control:checked~label.sk-toggleable__label {background-color: #d4ebff;}#sk-container-id-5 input.sk-hidden--visually {border: 0;clip: rect(1px 1px 1px 1px);clip: rect(1px, 1px, 1px, 1px);height: 1px;margin: -1px;overflow: hidden;padding: 0;position: absolute;width: 1px;}#sk-container-id-5 div.sk-estimator {font-family: monospace;background-color: #f0f8ff;border: 1px dotted black;border-radius: 0.25em;box-sizing: border-box;margin-bottom: 0.5em;}#sk-container-id-5 div.sk-estimator:hover {background-color: #d4ebff;}#sk-container-id-5 div.sk-parallel-item::after {content: \"\";width: 100%;border-bottom: 1px solid gray;flex-grow: 1;}#sk-container-id-5 div.sk-label:hover label.sk-toggleable__label {background-color: #d4ebff;}#sk-container-id-5 div.sk-serial::before {content: \"\";position: absolute;border-left: 1px solid gray;box-sizing: border-box;top: 0;bottom: 0;left: 50%;z-index: 0;}#sk-container-id-5 div.sk-serial {display: flex;flex-direction: column;align-items: center;background-color: white;padding-right: 0.2em;padding-left: 0.2em;position: relative;}#sk-container-id-5 div.sk-item {position: relative;z-index: 1;}#sk-container-id-5 div.sk-parallel {display: flex;align-items: stretch;justify-content: center;background-color: white;position: relative;}#sk-container-id-5 div.sk-item::before, #sk-container-id-5 div.sk-parallel-item::before {content: \"\";position: absolute;border-left: 1px solid gray;box-sizing: border-box;top: 0;bottom: 0;left: 50%;z-index: -1;}#sk-container-id-5 div.sk-parallel-item {display: flex;flex-direction: column;z-index: 1;position: relative;background-color: white;}#sk-container-id-5 div.sk-parallel-item:first-child::after {align-self: flex-end;width: 50%;}#sk-container-id-5 div.sk-parallel-item:last-child::after {align-self: flex-start;width: 50%;}#sk-container-id-5 div.sk-parallel-item:only-child::after {width: 0;}#sk-container-id-5 div.sk-dashed-wrapped {border: 1px dashed gray;margin: 0 0.4em 0.5em 0.4em;box-sizing: border-box;padding-bottom: 0.4em;background-color: white;}#sk-container-id-5 div.sk-label label {font-family: monospace;font-weight: bold;display: inline-block;line-height: 1.2em;}#sk-container-id-5 div.sk-label-container {text-align: center;}#sk-container-id-5 div.sk-container {/* jupyter's `normalize.less` sets `[hidden] { display: none; }` but bootstrap.min.css set `[hidden] { display: none !important; }` so we also need the `!important` here to be able to override the default hidden behavior on the sphinx rendered scikit-learn.org. See: https://github.com/scikit-learn/scikit-learn/issues/21755 */display: inline-block !important;position: relative;}#sk-container-id-5 div.sk-text-repr-fallback {display: none;}</style><div id=\"sk-container-id-5\" class=\"sk-top-container\"><div class=\"sk-text-repr-fallback\"><pre>SVC(gamma=0.5, kernel=&#x27;linear&#x27;, probability=True)</pre><b>In a Jupyter environment, please rerun this cell to show the HTML representation or trust the notebook. <br />On GitHub, the HTML representation is unable to render, please try loading this page with nbviewer.org.</b></div><div class=\"sk-container\" hidden><div class=\"sk-item\"><div class=\"sk-estimator sk-toggleable\"><input class=\"sk-toggleable__control sk-hidden--visually\" id=\"sk-estimator-id-5\" type=\"checkbox\" checked><label for=\"sk-estimator-id-5\" class=\"sk-toggleable__label sk-toggleable__label-arrow\">SVC</label><div class=\"sk-toggleable__content\"><pre>SVC(gamma=0.5, kernel=&#x27;linear&#x27;, probability=True)</pre></div></div></div></div></div>"
      ],
      "text/plain": [
       "SVC(gamma=0.5, kernel='linear', probability=True)"
      ]
     },
     "execution_count": 354,
     "metadata": {},
     "output_type": "execute_result"
    }
   ],
   "source": [
    "svm.fit(X,y)"
   ]
  },
  {
   "cell_type": "code",
   "execution_count": 356,
   "id": "17cceaef-71e4-434d-b9a5-b155877d7636",
   "metadata": {},
   "outputs": [],
   "source": [
    "probab=svm.predict_proba(X)"
   ]
  },
  {
   "cell_type": "code",
   "execution_count": 358,
   "id": "e28e42d2-6f84-4272-b189-b68b67538491",
   "metadata": {},
   "outputs": [
    {
     "data": {
      "text/plain": [
       "array([0.98743893, 0.00683272, 0.00572835])"
      ]
     },
     "execution_count": 358,
     "metadata": {},
     "output_type": "execute_result"
    }
   ],
   "source": [
    "probab[0]"
   ]
  },
  {
   "cell_type": "code",
   "execution_count": 360,
   "id": "73f48f47-95a6-4951-91b4-7cf2b99a42ca",
   "metadata": {},
   "outputs": [
    {
     "data": {
      "text/plain": [
       "array([0, 0, 0, 0, 0])"
      ]
     },
     "execution_count": 360,
     "metadata": {},
     "output_type": "execute_result"
    }
   ],
   "source": [
    "yhat=svm.predict(X)\n",
    "yhat[0:5]"
   ]
  },
  {
   "cell_type": "markdown",
   "id": "be9271b8-585f-4e7d-9a98-277b52d143c5",
   "metadata": {},
   "source": [
    "EVALUATION"
   ]
  },
  {
   "cell_type": "code",
   "execution_count": 362,
   "id": "c13fac3f-f9c7-492f-8935-5e68df3059eb",
   "metadata": {},
   "outputs": [
    {
     "data": {
      "text/plain": [
       "0.96"
      ]
     },
     "execution_count": 362,
     "metadata": {},
     "output_type": "execute_result"
    }
   ],
   "source": [
    "accuracy_score(y,yhat)"
   ]
  },
  {
   "cell_type": "code",
   "execution_count": 364,
   "id": "cf10f93b-45dc-4f34-ad48-eea6af1b7481",
   "metadata": {},
   "outputs": [],
   "source": [
    "plot_colors = \"ryb\"\n",
    "plot_step = 0.02\n",
    "def decision_boundary (X,y,model,iris, two=None):\n",
    "    x_min, x_max = X[:, 0].min() - 1, X[:, 0].max() + 1\n",
    "    y_min, y_max = X[:, 1].min() - 1, X[:, 1].max() + 1\n",
    "    xx, yy = np.meshgrid(np.arange(x_min, x_max, plot_step),\n",
    "                         np.arange(y_min, y_max, plot_step))\n",
    "    plt.tight_layout(h_pad=0.5, w_pad=0.5, pad=2.5) #padding the edges of the subplots \n",
    "    Z = model.predict(np.c_[xx.ravel(), yy.ravel()]) #When you call ravel() on an array, it flattens it into a 1D array.\n",
    "                                #So, np.c_[xx.ravel(), yy.ravel()] essentially stacks the flattened xx and yy arrays side by side.\n",
    "\n",
    "    Z = Z.reshape(xx.shape)\n",
    "    cs = plt.contourf(xx, yy, Z,cmap=plt.cm.RdYlBu)      #Imagine you’re an artist with a palette of colors and a magical landscape before you. \n",
    "                    #plt.contourf is your spell to create filled contour plots in Python using the powerful wand of Matplotlib.\n",
    "            #But wait, what’s a filled contour plot? It’s like painting regions on a treasure map, where each region corresponds to a specific value range.\n",
    "            #These contours reveal hidden patterns, like the contours of a mystical land seen from above.\n",
    "    if two:\n",
    "        cs = plt.contourf(xx, yy, Z,cmap=plt.cm.RdYlBu)\n",
    "        for i, color in zip(np.unique(y), plot_colors):  \n",
    "            idx = np.where( y== i)\n",
    "            plt.scatter(X[idx, 0], X[idx, 1], label=y,cmap=plt.cm.RdYlBu, s=15) #edgecolor interact with marker only s above 0\n",
    "        plt.show()\n",
    "    else:\n",
    "        set_={0,1,2}\n",
    "        print(set_)\n",
    "        for i, color in zip(range(3), plot_colors):\n",
    "            idx = np.where( y== i)\n",
    "            if np.any(idx):\n",
    "                set_.remove(i)\n",
    "                plt.scatter(X[idx, 0], X[idx, 1], label=y,cmap=plt.cm.RdYlBu, edgecolor='black', s=15)\n",
    "        for  i in set_:\n",
    "            idx = np.where( iris[4]== i) #target column\n",
    "            plt.scatter(X[idx, 0], X[idx, 1], marker='x',color='black')\n",
    "        plt.show()"
   ]
  },
  {
   "cell_type": "code",
   "execution_count": 229,
   "id": "6880ad79-3fde-43ed-8b22-a11ded7a0982",
   "metadata": {},
   "outputs": [
    {
     "data": {
      "text/plain": [
       "(1.0, 5.4)"
      ]
     },
     "execution_count": 229,
     "metadata": {},
     "output_type": "execute_result"
    }
   ],
   "source": [
    "x_min,x_max=X[:, 0].min() - 1, X[:, 0].max() + 1\n",
    "x_min,x_max"
   ]
  },
  {
   "cell_type": "code",
   "execution_count": 231,
   "id": "72abe377-763d-481c-9249-a05b796d3b64",
   "metadata": {},
   "outputs": [],
   "source": [
    "y_min,y_max=X[:, 1].min() - 1, X[:, 1].max() + 1"
   ]
  },
  {
   "cell_type": "code",
   "execution_count": 245,
   "id": "5d3d7f80-a057-48ac-8e08-aa101775d8f1",
   "metadata": {},
   "outputs": [],
   "source": [
    "x_min, x_max = X[:, 0].min() - 1, X[:, 0].max() + 1\n",
    "y_min, y_max = X[:, 1].min() - 1, X[:, 1].max() + 1\n",
    "xx, yy = np.meshgrid(np.arange(x_min, x_max, plot_step),\n",
    "                         np.arange(y_min, y_max, plot_step))"
   ]
  },
  {
   "cell_type": "code",
   "execution_count": 247,
   "id": "d1357e96-e08b-4bb2-9dd6-055b100fdb6f",
   "metadata": {},
   "outputs": [
    {
     "data": {
      "text/plain": [
       "array([[1.  , 1.02, 1.04, ..., 5.34, 5.36, 5.38],\n",
       "       [1.  , 1.02, 1.04, ..., 5.34, 5.36, 5.38],\n",
       "       [1.  , 1.02, 1.04, ..., 5.34, 5.36, 5.38],\n",
       "       ...,\n",
       "       [1.  , 1.02, 1.04, ..., 5.34, 5.36, 5.38],\n",
       "       [1.  , 1.02, 1.04, ..., 5.34, 5.36, 5.38],\n",
       "       [1.  , 1.02, 1.04, ..., 5.34, 5.36, 5.38]])"
      ]
     },
     "execution_count": 247,
     "metadata": {},
     "output_type": "execute_result"
    }
   ],
   "source": [
    "xx #shape(220,220)"
   ]
  },
  {
   "cell_type": "code",
   "execution_count": 249,
   "id": "8ca9b184",
   "metadata": {},
   "outputs": [
    {
     "data": {
      "text/plain": [
       "(220, 220)"
      ]
     },
     "execution_count": 249,
     "metadata": {},
     "output_type": "execute_result"
    }
   ],
   "source": [
    "yy.shape #shape(220,220)"
   ]
  },
  {
   "cell_type": "code",
   "execution_count": 205,
   "id": "1e4886ef-14c7-4ef2-84cf-0cc08732951e",
   "metadata": {},
   "outputs": [
    {
     "data": {
      "text/plain": [
       "(220, 220)"
      ]
     },
     "execution_count": 205,
     "metadata": {},
     "output_type": "execute_result"
    }
   ],
   "source": [
    "yy.shape"
   ]
  },
  {
   "cell_type": "code",
   "execution_count": 253,
   "id": "daf00504-b53b-4705-b856-7cad0cad6f17",
   "metadata": {},
   "outputs": [
    {
     "data": {
      "text/plain": [
       "<Figure size 640x480 with 0 Axes>"
      ]
     },
     "metadata": {},
     "output_type": "display_data"
    }
   ],
   "source": [
    "plt.tight_layout(h_pad=0.5, w_pad=0.5, pad=2.5) #padding the edges of the subplots \n",
    "plt.show()  "
   ]
  },
  {
   "cell_type": "code",
   "execution_count": 259,
   "id": "f52d81ad-1f02-4abe-913b-f411f923497a",
   "metadata": {},
   "outputs": [
    {
     "data": {
      "text/plain": [
       "array([0, 0, 0, ..., 2, 2, 2])"
      ]
     },
     "execution_count": 259,
     "metadata": {},
     "output_type": "execute_result"
    }
   ],
   "source": [
    "Z = svm.predict(np.c_[xx.ravel(), yy.ravel()]) #When you call ravel() on an array, it flattens it into a 1D array.\n",
    "Z"
   ]
  },
  {
   "cell_type": "code",
   "execution_count": 265,
   "id": "8de4f287-5770-427c-9667-89d531a0f679",
   "metadata": {},
   "outputs": [
    {
     "data": {
      "text/plain": [
       "array([[0, 0, 0, ..., 0, 0, 0],\n",
       "       [0, 0, 0, ..., 0, 0, 0],\n",
       "       [0, 0, 0, ..., 0, 0, 0],\n",
       "       ...,\n",
       "       [2, 2, 2, ..., 2, 2, 2],\n",
       "       [2, 2, 2, ..., 2, 2, 2],\n",
       "       [2, 2, 2, ..., 2, 2, 2]])"
      ]
     },
     "execution_count": 265,
     "metadata": {},
     "output_type": "execute_result"
    }
   ],
   "source": [
    "Z = Z.reshape(xx.shape)\n",
    "Z"
   ]
  },
  {
   "cell_type": "code",
   "execution_count": 267,
   "id": "6f8f5d39-3d1b-44ef-8bc7-1589a5f5280b",
   "metadata": {},
   "outputs": [
    {
     "data": {
      "image/png": "[encoded data removed]",
      "text/plain": [
       "<Figure size 640x480 with 1 Axes>"
      ]
     },
     "metadata": {},
     "output_type": "display_data"
    }
   ],
   "source": [
    "cs = plt.contourf(xx, yy, Z,cmap=plt.cm.RdYlBu)  "
   ]
  },
  {
   "cell_type": "code",
   "execution_count": 366,
   "id": "9fab9317-726f-4274-a5bc-3153ba27bbc6",
   "metadata": {},
   "outputs": [
    {
     "name": "stdout",
     "output_type": "stream",
     "text": [
      "{0, 1, 2}\n"
     ]
    },
    {
     "name": "stderr",
     "output_type": "stream",
     "text": [
      "C:\\Users\\sivas\\AppData\\Local\\Temp\\ipykernel_19604\\2420912723.py:30: UserWarning: No data for colormapping provided via 'c'. Parameters 'cmap' will be ignored\n",
      "  plt.scatter(X[idx, 0], X[idx, 1], label=y,cmap=plt.cm.RdYlBu, edgecolor='black', s=15)\n"
     ]
    },
    {
     "data": {
      "image/png": "[encoded data removed]",
      "text/plain": [
       "<Figure size 640x480 with 1 Axes>"
      ]
     },
     "metadata": {},
     "output_type": "display_data"
    }
   ],
   "source": [
    "decision_boundary(X,y,svm,df)"
   ]
  },
  {
   "cell_type": "code",
   "execution_count": 223,
   "id": "a70cabc5-5324-406e-bd1e-330c6fde8473",
   "metadata": {},
   "outputs": [
    {
     "data": {
      "image/png": "[encoded data removed]",
      "text/plain": [
       "<Figure size 640x480 with 1 Axes>"
      ]
     },
     "metadata": {},
     "output_type": "display_data"
    }
   ],
   "source": [
    "import numpy as np\n",
    "import matplotlib.pyplot as plt\n",
    "\n",
    "# Example: Create a grid from x and y\n",
    "nx, ny = 3, 2\n",
    "x = np.linspace(0, 1, nx)\n",
    "y = np.linspace(0, 1, ny)\n",
    "\n",
    "xv, yv = np.meshgrid(x, y)\n",
    "   \n",
    "# Plot the coordinate grid\n",
    "plt.plot(xv, yv, marker='o', color='k', linestyle='none')\n",
    "\n",
    "plt.xlabel('x')\n",
    "plt.ylabel('y')\n",
    "plt.title('Coordinate Grid')\n",
    "plt.grid(True)\n",
    "plt.show()\n"
   ]
  },
  {
   "cell_type": "code",
   "execution_count": null,
   "id": "95de8a86-d0d3-44d1-9b2f-7e723e38958e",
   "metadata": {},
   "outputs": [],
   "source": []
  },
  {
   "cell_type": "code",
   "execution_count": null,
   "id": "20fc7a66-d054-4778-ac9e-81dd336aba96",
   "metadata": {},
   "outputs": [],
   "source": []
  },
  {
   "cell_type": "markdown",
   "id": "3d7ae9c4-8c78-4ada-aef1-2408bcb5ba4d",
   "metadata": {},
   "source": [
    "# One vs All"
   ]
  },
  {
   "cell_type": "raw",
   "id": "9f04a817-4ad8-4e3d-b854-a84150019924",
   "metadata": {},
   "source": [
    "For one-vs-all classification, if we have K classes, we use K two-class classifier models. The number of class labels present in the dataset is equal to the number of generated classifiers. First, we create an artificial class we will call this \"dummy\" class. For each classifier, we split the data into two classes. We take the class samples we would like to classify, the rest of the samples will be labelled as a dummy class. We repeat the process for each class. To make a classification, we use the classifier with the highest probability, disregarding the dummy class."
   ]
  },
  {
   "cell_type": "code",
   "execution_count": 370,
   "id": "f4589534-ea6f-49ca-9d91-0b18cf3f2b4b",
   "metadata": {},
   "outputs": [
    {
     "data": {
      "text/plain": [
       "3"
      ]
     },
     "execution_count": 370,
     "metadata": {},
     "output_type": "execute_result"
    }
   ],
   "source": [
    "#dummy class creation\n",
    "dummy=y.max()+1\n",
    "dummy"
   ]
  },
  {
   "cell_type": "code",
   "execution_count": 235,
   "id": "8cb43085-d890-44d3-a94f-c7a2010b74bf",
   "metadata": {},
   "outputs": [
    {
     "data": {
      "text/plain": [
       "(150, 2)"
      ]
     },
     "execution_count": 235,
     "metadata": {},
     "output_type": "execute_result"
    }
   ],
   "source": [
    "X.shape"
   ]
  },
  {
   "cell_type": "code",
   "execution_count": 255,
   "id": "d91363c8",
   "metadata": {},
   "outputs": [
    {
     "data": {
      "text/plain": [
       "(150,)"
      ]
     },
     "execution_count": 255,
     "metadata": {},
     "output_type": "execute_result"
    }
   ],
   "source": [
    "y.shape"
   ]
  },
  {
   "cell_type": "code",
   "execution_count": 285,
   "id": "af85077e-b93f-442f-b8aa-f0d0cd5d2620",
   "metadata": {},
   "outputs": [
    {
     "data": {
      "text/plain": [
       "2"
      ]
     },
     "execution_count": 285,
     "metadata": {},
     "output_type": "execute_result"
    }
   ],
   "source": [
    "y[149]"
   ]
  },
  {
   "cell_type": "code",
   "execution_count": 257,
   "id": "4522fb5e-29c0-4d01-9de5-c2b36809a41c",
   "metadata": {},
   "outputs": [
    {
     "data": {
      "text/plain": [
       "(150,)"
      ]
     },
     "execution_count": 257,
     "metadata": {},
     "output_type": "execute_result"
    }
   ],
   "source": [
    "temp_y.shape"
   ]
  },
  {
   "cell_type": "code",
   "execution_count": 480,
   "id": "52bfc53c-4c99-41d4-a0b5-c468121a54c5",
   "metadata": {},
   "outputs": [
    {
     "ename": "NameError",
     "evalue": "name 'iris' is not defined",
     "output_type": "error",
     "traceback": [
      "\u001b[1;31m---------------------------------------------------------------------------\u001b[0m",
      "\u001b[1;31mNameError\u001b[0m                                 Traceback (most recent call last)",
      "Cell \u001b[1;32mIn[480], line 19\u001b[0m\n\u001b[0;32m     17\u001b[0m     my_models\u001b[38;5;241m.\u001b[39mappend(model\u001b[38;5;241m.\u001b[39mfit(X,temp_y))\n\u001b[0;32m     18\u001b[0m     \u001b[38;5;66;03m#plot decision boundary \u001b[39;00m\n\u001b[1;32m---> 19\u001b[0m     decision_boundary (X,temp_y,model,iris)\n\u001b[0;32m     20\u001b[0m temp_y\u001b[38;5;241m.\u001b[39mshape\n",
      "\u001b[1;31mNameError\u001b[0m: name 'iris' is not defined"
     ]
    }
   ],
   "source": [
    "#dummy class\n",
    "dummy_class=y.max()+1\n",
    "dummy_class\n",
    "#list used for classifiers \n",
    "my_models=[]\n",
    "#iterate through each class\n",
    "for class_ in np.unique(y):\n",
    "    #select the index of our  class\n",
    "    select=(y==class_)\n",
    "    temp_y=np.zeros(y.shape)\n",
    "    #class, we are trying to classify \n",
    "    temp_y[y==class_]=class_\n",
    "    #set other samples  to a dummy class \n",
    "    temp_y[y!=class_]=dummy_class\n",
    "    #Train model and add to list \n",
    "    model=SVC(kernel='linear', gamma=.5, probability=True)    \n",
    "    my_models.append(model.fit(X,temp_y))\n",
    "    #plot decision boundary \n",
    "    decision_boundary (X,temp_y,model,iris)\n",
    "temp_y.shape"
   ]
  },
  {
   "cell_type": "code",
   "execution_count": 482,
   "id": "6db383f7-6111-4e80-9648-fa196a26b359",
   "metadata": {},
   "outputs": [
    {
     "name": "stdout",
     "output_type": "stream",
     "text": [
      "{0, 1, 2}\n"
     ]
    },
    {
     "name": "stderr",
     "output_type": "stream",
     "text": [
      "C:\\Users\\sivas\\AppData\\Local\\Temp\\ipykernel_19604\\2420912723.py:30: UserWarning: No data for colormapping provided via 'c'. Parameters 'cmap' will be ignored\n",
      "  plt.scatter(X[idx, 0], X[idx, 1], label=y,cmap=plt.cm.RdYlBu, edgecolor='black', s=15)\n"
     ]
    },
    {
     "data": {
      "image/png": "[encoded data removed]",
      "text/plain": [
       "<Figure size 640x480 with 1 Axes>"
      ]
     },
     "metadata": {},
     "output_type": "display_data"
    },
    {
     "name": "stdout",
     "output_type": "stream",
     "text": [
      "{0, 1, 2}\n"
     ]
    },
    {
     "name": "stderr",
     "output_type": "stream",
     "text": [
      "C:\\Users\\sivas\\AppData\\Local\\Temp\\ipykernel_19604\\2420912723.py:30: UserWarning: No data for colormapping provided via 'c'. Parameters 'cmap' will be ignored\n",
      "  plt.scatter(X[idx, 0], X[idx, 1], label=y,cmap=plt.cm.RdYlBu, edgecolor='black', s=15)\n"
     ]
    },
    {
     "data": {
      "image/png": "[encoded data removed]",
      "text/plain": [
       "<Figure size 640x480 with 1 Axes>"
      ]
     },
     "metadata": {},
     "output_type": "display_data"
    },
    {
     "name": "stdout",
     "output_type": "stream",
     "text": [
      "{0, 1, 2}\n"
     ]
    },
    {
     "name": "stderr",
     "output_type": "stream",
     "text": [
      "C:\\Users\\sivas\\AppData\\Local\\Temp\\ipykernel_19604\\2420912723.py:30: UserWarning: No data for colormapping provided via 'c'. Parameters 'cmap' will be ignored\n",
      "  plt.scatter(X[idx, 0], X[idx, 1], label=y,cmap=plt.cm.RdYlBu, edgecolor='black', s=15)\n"
     ]
    },
    {
     "data": {
      "image/png": "[encoded data removed]",
      "text/plain": [
       "<Figure size 640x480 with 1 Axes>"
      ]
     },
     "metadata": {},
     "output_type": "display_data"
    }
   ],
   "source": [
    "#list used for classifiers \n",
    "my_models=[]\n",
    "#iterate through each class\n",
    "for class_ in np.unique(y): # class_ is 0,1,2\n",
    "    select=(y==class_)#select the index of our  class\n",
    "    temp_y=np.zeros(y.shape)#class, we are trying to classify \n",
    "    temp_y[y==class_]=class_\n",
    "    temp_y[y!=class_]=dummy\n",
    "    model=SVC(kernel='linear',gamma=0.5,probability=True)\n",
    "    my_models.append(model.fit(X,temp_y))\n",
    "\n",
    "    decision_boundary(X,temp_y,model,df)"
   ]
  },
  {
   "cell_type": "code",
   "execution_count": 484,
   "id": "529793e1-2014-459b-9bab-8f213c3444bb",
   "metadata": {},
   "outputs": [
    {
     "name": "stdout",
     "output_type": "stream",
     "text": [
      "[SVC(gamma=0.5, kernel='linear', probability=True), SVC(gamma=0.5, kernel='linear', probability=True), SVC(gamma=0.5, kernel='linear', probability=True)]\n"
     ]
    }
   ],
   "source": [
    "print(my_models)"
   ]
  },
  {
   "cell_type": "code",
   "execution_count": 486,
   "id": "c5cb428a-fd56-4abf-a37c-aa34e21451d3",
   "metadata": {},
   "outputs": [],
   "source": [
    "probability_array=np.zeros((X.shape[0],3))\n",
    "for j,model in enumerate(my_models): #my_models fitted one and appended\n",
    "\n",
    "    real_class=np.where(np.array(model.classes_)!=3)[0]\n",
    "\n",
    "    probability_array[:,j]=model.predict_proba(X)[:,real_class][:,0]"
   ]
  },
  {
   "cell_type": "code",
   "execution_count": 488,
   "id": "5694e786-47f6-4e2e-a8d6-b663fee0d846",
   "metadata": {},
   "outputs": [
    {
     "data": {
      "text/plain": [
       "array([9.91646139e-01, 1.16386938e-01, 4.31118650e-12])"
      ]
     },
     "execution_count": 488,
     "metadata": {},
     "output_type": "execute_result"
    }
   ],
   "source": [
    "probability_array[0]"
   ]
  },
  {
   "cell_type": "code",
   "execution_count": 490,
   "id": "009678f0",
   "metadata": {},
   "outputs": [
    {
     "data": {
      "text/plain": [
       "1.108033076458131"
      ]
     },
     "execution_count": 490,
     "metadata": {},
     "output_type": "execute_result"
    }
   ],
   "source": [
    "probability_array[0].sum()"
   ]
  },
  {
   "cell_type": "code",
   "execution_count": 492,
   "id": "5ee01d3c-c4a5-47ad-a132-65d3e5854f2b",
   "metadata": {},
   "outputs": [
    {
     "data": {
      "image/png": "[encoded data removed]",
      "text/plain": [
       "<Figure size 640x480 with 2 Axes>"
      ]
     },
     "metadata": {},
     "output_type": "display_data"
    }
   ],
   "source": [
    "plot_probability_array(X,probability_array)"
   ]
  },
  {
   "cell_type": "code",
   "execution_count": 494,
   "id": "3bc6d9d2-e956-4d1d-b07c-ad4766295fca",
   "metadata": {},
   "outputs": [],
   "source": [
    "one_vs_all=np.argmax(probability_array,axis=1)"
   ]
  },
  {
   "cell_type": "code",
   "execution_count": 496,
   "id": "cbd282e8-1155-45e4-bfc1-9695fdb79866",
   "metadata": {},
   "outputs": [
    {
     "data": {
      "text/plain": [
       "array([0, 0, 0, 0, 0, 0, 0, 0, 0, 0, 0, 0, 0, 0, 0, 0, 0, 0, 0, 0, 0, 0,\n",
       "       0, 0, 0, 0, 0, 0, 0, 0, 0, 0, 0, 0, 0, 0, 0, 0, 0, 0, 0, 1, 0, 0,\n",
       "       0, 0, 0, 0, 0, 0, 1, 1, 1, 1, 1, 1, 2, 1, 1, 1, 1, 1, 1, 1, 1, 1,\n",
       "       1, 1, 1, 1, 2, 1, 1, 1, 1, 1, 1, 2, 1, 1, 1, 1, 1, 1, 1, 2, 1, 1,\n",
       "       1, 1, 1, 1, 1, 1, 1, 1, 1, 1, 1, 1, 2, 2, 2, 2, 2, 2, 2, 2, 2, 2,\n",
       "       2, 2, 2, 2, 2, 2, 2, 2, 2, 1, 2, 2, 2, 2, 2, 2, 2, 2, 2, 2, 2, 2,\n",
       "       2, 1, 1, 2, 2, 2, 2, 2, 2, 2, 2, 2, 2, 2, 2, 2, 2, 2], dtype=int64)"
      ]
     },
     "execution_count": 496,
     "metadata": {},
     "output_type": "execute_result"
    }
   ],
   "source": [
    "one_vs_all"
   ]
  },
  {
   "cell_type": "markdown",
   "id": "c37d6180-588f-41c8-9300-9b81cf8187d7",
   "metadata": {},
   "source": [
    "EVALUATION"
   ]
  },
  {
   "cell_type": "code",
   "execution_count": 498,
   "id": "b4917be8-4092-43cf-939b-068bb9ca5af2",
   "metadata": {},
   "outputs": [
    {
     "data": {
      "text/plain": [
       "0.9466666666666667"
      ]
     },
     "execution_count": 498,
     "metadata": {},
     "output_type": "execute_result"
    }
   ],
   "source": [
    "accuracy_score(y,one_vs_all)"
   ]
  },
  {
   "cell_type": "code",
   "execution_count": 500,
   "id": "de41a0c3",
   "metadata": {},
   "outputs": [
    {
     "data": {
      "text/plain": [
       "0.9733333333333334"
      ]
     },
     "execution_count": 500,
     "metadata": {},
     "output_type": "execute_result"
    }
   ],
   "source": [
    "accuracy_score(one_vs_all,yhat)"
   ]
  },
  {
   "cell_type": "markdown",
   "id": "9ce4a4ce-c34f-4aa5-ad95-7dca17fae50f",
   "metadata": {},
   "source": [
    "# one vs one"
   ]
  },
  {
   "cell_type": "code",
   "execution_count": 516,
   "id": "c52e711c-44b0-4efe-9213-0bb907223d6b",
   "metadata": {},
   "outputs": [],
   "source": [
    "classs=set(np.unique(y))"
   ]
  },
  {
   "cell_type": "code",
   "execution_count": 518,
   "id": "05c31e6b-0ed8-418d-a578-c902bb68bbb3",
   "metadata": {},
   "outputs": [
    {
     "data": {
      "text/plain": [
       "{0, 1, 2}"
      ]
     },
     "execution_count": 518,
     "metadata": {},
     "output_type": "execute_result"
    }
   ],
   "source": [
    "classs"
   ]
  },
  {
   "cell_type": "code",
   "execution_count": 520,
   "id": "0e28c585-79fb-4f25-8e44-a760eebde04a",
   "metadata": {},
   "outputs": [],
   "source": [
    "k=len(classs)"
   ]
  },
  {
   "cell_type": "code",
   "execution_count": 522,
   "id": "cf05f89a-750c-448a-965a-7592355eb4c4",
   "metadata": {},
   "outputs": [
    {
     "data": {
      "text/plain": [
       "3.0"
      ]
     },
     "execution_count": 522,
     "metadata": {},
     "output_type": "execute_result"
    }
   ],
   "source": [
    "k*(k-1)/2"
   ]
  },
  {
   "cell_type": "code",
   "execution_count": 534,
   "id": "ba0a09a5-45f8-48da-8434-86d580a4f119",
   "metadata": {},
   "outputs": [
    {
     "name": "stdout",
     "output_type": "stream",
     "text": [
      "class 0 vs class 1 \n"
     ]
    },
    {
     "name": "stderr",
     "output_type": "stream",
     "text": [
      "C:\\Users\\sivas\\AppData\\Local\\Temp\\ipykernel_19604\\2420912723.py:21: UserWarning: No data for colormapping provided via 'c'. Parameters 'cmap' will be ignored\n",
      "  plt.scatter(X[idx, 0], X[idx, 1], label=y,cmap=plt.cm.RdYlBu, s=15) #edgecolor interact with marker only s above 0\n"
     ]
    },
    {
     "data": {
      "image/png": "[encoded data removed]",
      "text/plain": [
       "<Figure size 640x480 with 1 Axes>"
      ]
     },
     "metadata": {},
     "output_type": "display_data"
    },
    {
     "name": "stdout",
     "output_type": "stream",
     "text": [
      "class 0 vs class 2 \n"
     ]
    },
    {
     "name": "stderr",
     "output_type": "stream",
     "text": [
      "C:\\Users\\sivas\\AppData\\Local\\Temp\\ipykernel_19604\\2420912723.py:21: UserWarning: No data for colormapping provided via 'c'. Parameters 'cmap' will be ignored\n",
      "  plt.scatter(X[idx, 0], X[idx, 1], label=y,cmap=plt.cm.RdYlBu, s=15) #edgecolor interact with marker only s above 0\n"
     ]
    },
    {
     "data": {
      "image/png": "[encoded data removed]",
      "text/plain": [
       "<Figure size 640x480 with 1 Axes>"
      ]
     },
     "metadata": {},
     "output_type": "display_data"
    },
    {
     "name": "stdout",
     "output_type": "stream",
     "text": [
      "class 1 vs class 2 \n"
     ]
    },
    {
     "name": "stderr",
     "output_type": "stream",
     "text": [
      "C:\\Users\\sivas\\AppData\\Local\\Temp\\ipykernel_19604\\2420912723.py:21: UserWarning: No data for colormapping provided via 'c'. Parameters 'cmap' will be ignored\n",
      "  plt.scatter(X[idx, 0], X[idx, 1], label=y,cmap=plt.cm.RdYlBu, s=15) #edgecolor interact with marker only s above 0\n"
     ]
    },
    {
     "data": {
      "image/png": "[encoded data removed]",
      "text/plain": [
       "<Figure size 640x480 with 1 Axes>"
      ]
     },
     "metadata": {},
     "output_type": "display_data"
    }
   ],
   "source": [
    "pairs=[]\n",
    "left_overs=classs.copy()\n",
    "#list used for classifiers \n",
    "my_models=[]\n",
    "#iterate through each class\n",
    "for class_ in classs:\n",
    "    #remove class we have seen before \n",
    "    left_overs.remove(class_)\n",
    "    #the second class in the pair\n",
    "    for second_class in left_overs:\n",
    "        pairs.append(str(class_)+' and '+str(second_class))\n",
    "        print(\"class {} vs class {} \".format(class_,second_class) )\n",
    "        temp_y=np.zeros(y.shape)\n",
    "        #find classes in pair \n",
    "        select=np.logical_or(y==class_ , y==second_class)\n",
    "        #train model \n",
    "        model=SVC(kernel='linear', gamma=.5, probability=True)  \n",
    "        model.fit(X[select,:],y[select])\n",
    "        my_models.append(model)\n",
    "        #Plot decision boundary for each pair and corresponding Training samples. \n",
    "        decision_boundary (X[select,:],y[select],model,df,two=True)"
   ]
  },
  {
   "cell_type": "code",
   "execution_count": 538,
   "id": "e6152bdf-e884-406c-abf0-d7266e03ff28",
   "metadata": {},
   "outputs": [
    {
     "data": {
      "text/plain": [
       "['0 and 1', '0 and 2', '1 and 2']"
      ]
     },
     "execution_count": 538,
     "metadata": {},
     "output_type": "execute_result"
    }
   ],
   "source": [
    "pairs"
   ]
  },
  {
   "cell_type": "code",
   "execution_count": 528,
   "id": "023b9dc9-663a-4218-bc67-6a68d59a0ce4",
   "metadata": {},
   "outputs": [
    {
     "data": {
      "text/plain": [
       "{0, 1, 2}"
      ]
     },
     "execution_count": 528,
     "metadata": {},
     "output_type": "execute_result"
    }
   ],
   "source": [
    "left_overs"
   ]
  },
  {
   "cell_type": "code",
   "execution_count": 546,
   "id": "5d52c753-48e6-4939-89bd-c9218ad4fa97",
   "metadata": {},
   "outputs": [],
   "source": [
    "pairs\n",
    "majority_vote_array=np.zeros((X.shape[0],3))\n",
    "majority_vote_dict={}\n",
    "for j,(model,pair) in enumerate(zip(my_models,pairs)):\n",
    "\n",
    "    majority_vote_dict[pair]=model.predict(X)\n",
    "    majority_vote_array[:,j]=model.predict(X)"
   ]
  },
  {
   "cell_type": "code",
   "execution_count": 548,
   "id": "43c93a32-cec2-4e93-894a-eb7f5cc2e93a",
   "metadata": {},
   "outputs": [
    {
     "data": {
      "text/plain": [
       "{'0 and 1': array([0, 0, 0, 0, 0, 0, 0, 0, 0, 0, 0, 0, 0, 0, 0, 0, 0, 0, 0, 0, 0, 0,\n",
       "        0, 0, 0, 0, 0, 0, 0, 0, 0, 0, 0, 0, 0, 0, 0, 0, 0, 0, 0, 0, 0, 0,\n",
       "        0, 0, 0, 0, 0, 0, 1, 1, 1, 1, 1, 1, 1, 1, 1, 1, 1, 1, 1, 1, 1, 1,\n",
       "        1, 1, 1, 1, 1, 1, 1, 1, 1, 1, 1, 1, 1, 1, 1, 1, 1, 1, 1, 1, 1, 1,\n",
       "        1, 1, 1, 1, 1, 1, 1, 1, 1, 1, 1, 1, 1, 1, 1, 1, 1, 1, 1, 1, 1, 1,\n",
       "        1, 1, 1, 1, 1, 1, 1, 1, 1, 1, 1, 1, 1, 1, 1, 1, 1, 1, 1, 1, 1, 1,\n",
       "        1, 1, 1, 1, 1, 1, 1, 1, 1, 1, 1, 1, 1, 1, 1, 1, 1, 1]),\n",
       " '0 and 2': array([0, 0, 0, 0, 0, 0, 0, 0, 0, 0, 0, 0, 0, 0, 0, 0, 0, 0, 0, 0, 0, 0,\n",
       "        0, 0, 0, 0, 0, 0, 0, 0, 0, 0, 0, 0, 0, 0, 0, 0, 0, 0, 0, 0, 0, 0,\n",
       "        0, 0, 0, 0, 0, 0, 2, 2, 2, 2, 2, 2, 2, 2, 2, 2, 2, 2, 2, 2, 2, 2,\n",
       "        2, 2, 2, 2, 2, 2, 2, 2, 2, 2, 2, 2, 2, 2, 2, 2, 2, 2, 2, 2, 2, 2,\n",
       "        2, 2, 2, 2, 2, 2, 2, 2, 2, 2, 2, 2, 2, 2, 2, 2, 2, 2, 2, 2, 2, 2,\n",
       "        2, 2, 2, 2, 2, 2, 2, 2, 2, 2, 2, 2, 2, 2, 2, 2, 2, 2, 2, 2, 2, 2,\n",
       "        2, 2, 2, 2, 2, 2, 2, 2, 2, 2, 2, 2, 2, 2, 2, 2, 2, 2]),\n",
       " '1 and 2': array([1, 1, 1, 1, 1, 1, 1, 1, 1, 1, 1, 1, 1, 1, 1, 1, 1, 1, 1, 1, 1, 1,\n",
       "        1, 1, 1, 1, 1, 1, 1, 1, 1, 1, 1, 1, 1, 1, 1, 1, 1, 1, 1, 1, 1, 1,\n",
       "        1, 1, 1, 1, 1, 1, 1, 1, 1, 1, 1, 1, 1, 1, 1, 1, 1, 1, 1, 1, 1, 1,\n",
       "        1, 1, 1, 1, 2, 1, 1, 1, 1, 1, 1, 2, 1, 1, 1, 1, 1, 1, 1, 1, 1, 1,\n",
       "        1, 1, 1, 1, 1, 1, 1, 1, 1, 1, 1, 1, 2, 2, 2, 2, 2, 2, 2, 2, 2, 2,\n",
       "        2, 2, 2, 2, 2, 2, 2, 2, 2, 1, 2, 2, 2, 2, 2, 2, 2, 2, 2, 1, 2, 2,\n",
       "        2, 1, 1, 2, 2, 2, 2, 2, 2, 2, 2, 2, 2, 2, 2, 2, 2, 2])}"
      ]
     },
     "execution_count": 548,
     "metadata": {},
     "output_type": "execute_result"
    }
   ],
   "source": [
    "majority_vote_dict"
   ]
  },
  {
   "cell_type": "code",
   "execution_count": 550,
   "id": "5b6c424b-f31f-4851-b22d-b19eaca8bbf2",
   "metadata": {},
   "outputs": [
    {
     "data": {
      "text/plain": [
       "array([[0., 0., 1.],\n",
       "       [0., 0., 1.],\n",
       "       [0., 0., 1.],\n",
       "       [0., 0., 1.],\n",
       "       [0., 0., 1.],\n",
       "       [0., 0., 1.],\n",
       "       [0., 0., 1.],\n",
       "       [0., 0., 1.],\n",
       "       [0., 0., 1.],\n",
       "       [0., 0., 1.],\n",
       "       [0., 0., 1.],\n",
       "       [0., 0., 1.],\n",
       "       [0., 0., 1.],\n",
       "       [0., 0., 1.],\n",
       "       [0., 0., 1.],\n",
       "       [0., 0., 1.],\n",
       "       [0., 0., 1.],\n",
       "       [0., 0., 1.],\n",
       "       [0., 0., 1.],\n",
       "       [0., 0., 1.],\n",
       "       [0., 0., 1.],\n",
       "       [0., 0., 1.],\n",
       "       [0., 0., 1.],\n",
       "       [0., 0., 1.],\n",
       "       [0., 0., 1.],\n",
       "       [0., 0., 1.],\n",
       "       [0., 0., 1.],\n",
       "       [0., 0., 1.],\n",
       "       [0., 0., 1.],\n",
       "       [0., 0., 1.],\n",
       "       [0., 0., 1.],\n",
       "       [0., 0., 1.],\n",
       "       [0., 0., 1.],\n",
       "       [0., 0., 1.],\n",
       "       [0., 0., 1.],\n",
       "       [0., 0., 1.],\n",
       "       [0., 0., 1.],\n",
       "       [0., 0., 1.],\n",
       "       [0., 0., 1.],\n",
       "       [0., 0., 1.],\n",
       "       [0., 0., 1.],\n",
       "       [0., 0., 1.],\n",
       "       [0., 0., 1.],\n",
       "       [0., 0., 1.],\n",
       "       [0., 0., 1.],\n",
       "       [0., 0., 1.],\n",
       "       [0., 0., 1.],\n",
       "       [0., 0., 1.],\n",
       "       [0., 0., 1.],\n",
       "       [0., 0., 1.],\n",
       "       [1., 2., 1.],\n",
       "       [1., 2., 1.],\n",
       "       [1., 2., 1.],\n",
       "       [1., 2., 1.],\n",
       "       [1., 2., 1.],\n",
       "       [1., 2., 1.],\n",
       "       [1., 2., 1.],\n",
       "       [1., 2., 1.],\n",
       "       [1., 2., 1.],\n",
       "       [1., 2., 1.],\n",
       "       [1., 2., 1.],\n",
       "       [1., 2., 1.],\n",
       "       [1., 2., 1.],\n",
       "       [1., 2., 1.],\n",
       "       [1., 2., 1.],\n",
       "       [1., 2., 1.],\n",
       "       [1., 2., 1.],\n",
       "       [1., 2., 1.],\n",
       "       [1., 2., 1.],\n",
       "       [1., 2., 1.],\n",
       "       [1., 2., 2.],\n",
       "       [1., 2., 1.],\n",
       "       [1., 2., 1.],\n",
       "       [1., 2., 1.],\n",
       "       [1., 2., 1.],\n",
       "       [1., 2., 1.],\n",
       "       [1., 2., 1.],\n",
       "       [1., 2., 2.],\n",
       "       [1., 2., 1.],\n",
       "       [1., 2., 1.],\n",
       "       [1., 2., 1.],\n",
       "       [1., 2., 1.],\n",
       "       [1., 2., 1.],\n",
       "       [1., 2., 1.],\n",
       "       [1., 2., 1.],\n",
       "       [1., 2., 1.],\n",
       "       [1., 2., 1.],\n",
       "       [1., 2., 1.],\n",
       "       [1., 2., 1.],\n",
       "       [1., 2., 1.],\n",
       "       [1., 2., 1.],\n",
       "       [1., 2., 1.],\n",
       "       [1., 2., 1.],\n",
       "       [1., 2., 1.],\n",
       "       [1., 2., 1.],\n",
       "       [1., 2., 1.],\n",
       "       [1., 2., 1.],\n",
       "       [1., 2., 1.],\n",
       "       [1., 2., 1.],\n",
       "       [1., 2., 1.],\n",
       "       [1., 2., 2.],\n",
       "       [1., 2., 2.],\n",
       "       [1., 2., 2.],\n",
       "       [1., 2., 2.],\n",
       "       [1., 2., 2.],\n",
       "       [1., 2., 2.],\n",
       "       [1., 2., 2.],\n",
       "       [1., 2., 2.],\n",
       "       [1., 2., 2.],\n",
       "       [1., 2., 2.],\n",
       "       [1., 2., 2.],\n",
       "       [1., 2., 2.],\n",
       "       [1., 2., 2.],\n",
       "       [1., 2., 2.],\n",
       "       [1., 2., 2.],\n",
       "       [1., 2., 2.],\n",
       "       [1., 2., 2.],\n",
       "       [1., 2., 2.],\n",
       "       [1., 2., 2.],\n",
       "       [1., 2., 1.],\n",
       "       [1., 2., 2.],\n",
       "       [1., 2., 2.],\n",
       "       [1., 2., 2.],\n",
       "       [1., 2., 2.],\n",
       "       [1., 2., 2.],\n",
       "       [1., 2., 2.],\n",
       "       [1., 2., 2.],\n",
       "       [1., 2., 2.],\n",
       "       [1., 2., 2.],\n",
       "       [1., 2., 1.],\n",
       "       [1., 2., 2.],\n",
       "       [1., 2., 2.],\n",
       "       [1., 2., 2.],\n",
       "       [1., 2., 1.],\n",
       "       [1., 2., 1.],\n",
       "       [1., 2., 2.],\n",
       "       [1., 2., 2.],\n",
       "       [1., 2., 2.],\n",
       "       [1., 2., 2.],\n",
       "       [1., 2., 2.],\n",
       "       [1., 2., 2.],\n",
       "       [1., 2., 2.],\n",
       "       [1., 2., 2.],\n",
       "       [1., 2., 2.],\n",
       "       [1., 2., 2.],\n",
       "       [1., 2., 2.],\n",
       "       [1., 2., 2.],\n",
       "       [1., 2., 2.],\n",
       "       [1., 2., 2.],\n",
       "       [1., 2., 2.]])"
      ]
     },
     "execution_count": 550,
     "metadata": {},
     "output_type": "execute_result"
    }
   ],
   "source": [
    "majority_vote_array"
   ]
  },
  {
   "cell_type": "code",
   "execution_count": 554,
   "id": "0f39c072-8cbd-4fda-bffb-7595f3c5cbd2",
   "metadata": {},
   "outputs": [
    {
     "data": {
      "text/html": [
       "<div>\n",
       "<style scoped>\n",
       "    .dataframe tbody tr th:only-of-type {\n",
       "        vertical-align: middle;\n",
       "    }\n",
       "\n",
       "    .dataframe tbody tr th {\n",
       "        vertical-align: top;\n",
       "    }\n",
       "\n",
       "    .dataframe thead th {\n",
       "        text-align: right;\n",
       "    }\n",
       "</style>\n",
       "<table border=\"1\" class=\"dataframe\">\n",
       "  <thead>\n",
       "    <tr style=\"text-align: right;\">\n",
       "      <th></th>\n",
       "      <th>0 and 1</th>\n",
       "      <th>0 and 2</th>\n",
       "      <th>1 and 2</th>\n",
       "    </tr>\n",
       "  </thead>\n",
       "  <tbody>\n",
       "    <tr>\n",
       "      <th>0</th>\n",
       "      <td>0</td>\n",
       "      <td>0</td>\n",
       "      <td>1</td>\n",
       "    </tr>\n",
       "    <tr>\n",
       "      <th>1</th>\n",
       "      <td>0</td>\n",
       "      <td>0</td>\n",
       "      <td>1</td>\n",
       "    </tr>\n",
       "    <tr>\n",
       "      <th>2</th>\n",
       "      <td>0</td>\n",
       "      <td>0</td>\n",
       "      <td>1</td>\n",
       "    </tr>\n",
       "    <tr>\n",
       "      <th>3</th>\n",
       "      <td>0</td>\n",
       "      <td>0</td>\n",
       "      <td>1</td>\n",
       "    </tr>\n",
       "    <tr>\n",
       "      <th>4</th>\n",
       "      <td>0</td>\n",
       "      <td>0</td>\n",
       "      <td>1</td>\n",
       "    </tr>\n",
       "    <tr>\n",
       "      <th>5</th>\n",
       "      <td>0</td>\n",
       "      <td>0</td>\n",
       "      <td>1</td>\n",
       "    </tr>\n",
       "    <tr>\n",
       "      <th>6</th>\n",
       "      <td>0</td>\n",
       "      <td>0</td>\n",
       "      <td>1</td>\n",
       "    </tr>\n",
       "    <tr>\n",
       "      <th>7</th>\n",
       "      <td>0</td>\n",
       "      <td>0</td>\n",
       "      <td>1</td>\n",
       "    </tr>\n",
       "    <tr>\n",
       "      <th>8</th>\n",
       "      <td>0</td>\n",
       "      <td>0</td>\n",
       "      <td>1</td>\n",
       "    </tr>\n",
       "    <tr>\n",
       "      <th>9</th>\n",
       "      <td>0</td>\n",
       "      <td>0</td>\n",
       "      <td>1</td>\n",
       "    </tr>\n",
       "  </tbody>\n",
       "</table>\n",
       "</div>"
      ],
      "text/plain": [
       "   0 and 1  0 and 2  1 and 2\n",
       "0        0        0        1\n",
       "1        0        0        1\n",
       "2        0        0        1\n",
       "3        0        0        1\n",
       "4        0        0        1\n",
       "5        0        0        1\n",
       "6        0        0        1\n",
       "7        0        0        1\n",
       "8        0        0        1\n",
       "9        0        0        1"
      ]
     },
     "execution_count": 554,
     "metadata": {},
     "output_type": "execute_result"
    }
   ],
   "source": [
    "pd.DataFrame(majority_vote_dict).head(10)"
   ]
  },
  {
   "cell_type": "markdown",
   "id": "8775ff32-f14e-4546-9d77-afc595d4c91b",
   "metadata": {},
   "source": [
    "In the above table, each column is the output of a classifier for each pair of classes and the output is the prediction:\n"
   ]
  },
  {
   "cell_type": "raw",
   "id": "2e731cd1-1df9-4f0f-ac2e-256f5dfcc0a2",
   "metadata": {},
   "source": [
    "To perform classification on a sample, we perform a majority vote, that is, select the class with the most predictions. We repeat the process for each sample. \n"
   ]
  },
  {
   "cell_type": "code",
   "execution_count": 560,
   "id": "1ab89625-b382-40ae-abc9-6c56b27e45a1",
   "metadata": {},
   "outputs": [],
   "source": [
    "one_vs_one=np.array([np.bincount(i.astype('int')).argmax() for i in majority_vote_array])"
   ]
  },
  {
   "cell_type": "code",
   "execution_count": 563,
   "id": "658ff3ca-c548-4f72-85b9-a38586f30272",
   "metadata": {},
   "outputs": [
    {
     "data": {
      "text/plain": [
       "array([0, 0, 0, 0, 0, 0, 0, 0, 0, 0, 0, 0, 0, 0, 0, 0, 0, 0, 0, 0, 0, 0,\n",
       "       0, 0, 0, 0, 0, 0, 0, 0, 0, 0, 0, 0, 0, 0, 0, 0, 0, 0, 0, 0, 0, 0,\n",
       "       0, 0, 0, 0, 0, 0, 1, 1, 1, 1, 1, 1, 1, 1, 1, 1, 1, 1, 1, 1, 1, 1,\n",
       "       1, 1, 1, 1, 2, 1, 1, 1, 1, 1, 1, 2, 1, 1, 1, 1, 1, 1, 1, 1, 1, 1,\n",
       "       1, 1, 1, 1, 1, 1, 1, 1, 1, 1, 1, 1, 2, 2, 2, 2, 2, 2, 2, 2, 2, 2,\n",
       "       2, 2, 2, 2, 2, 2, 2, 2, 2, 1, 2, 2, 2, 2, 2, 2, 2, 2, 2, 1, 2, 2,\n",
       "       2, 1, 1, 2, 2, 2, 2, 2, 2, 2, 2, 2, 2, 2, 2, 2, 2, 2], dtype=int64)"
      ]
     },
     "execution_count": 563,
     "metadata": {},
     "output_type": "execute_result"
    }
   ],
   "source": [
    "one_vs_one"
   ]
  },
  {
   "cell_type": "code",
   "execution_count": 565,
   "id": "df650b14-11d6-4acd-baf4-89a29ce0c6b7",
   "metadata": {},
   "outputs": [
    {
     "data": {
      "text/plain": [
       "0.96"
      ]
     },
     "execution_count": 565,
     "metadata": {},
     "output_type": "execute_result"
    }
   ],
   "source": [
    "accuracy_score(y,one_vs_one)"
   ]
  },
  {
   "cell_type": "code",
   "execution_count": 567,
   "id": "926b6d85-e9c8-452c-8e0f-d2e16555314e",
   "metadata": {},
   "outputs": [
    {
     "data": {
      "text/plain": [
       "1.0"
      ]
     },
     "execution_count": 567,
     "metadata": {},
     "output_type": "execute_result"
    }
   ],
   "source": [
    "accuracy_score(yhat,one_vs_one)"
   ]
  },
  {
   "cell_type": "code",
   "execution_count": null,
   "id": "c7ca3c08-b3c1-4cc1-8a79-9318ace68b19",
   "metadata": {},
   "outputs": [],
   "source": []
  }
 ],
 "metadata": {
  "kernelspec": {
   "display_name": "Python 3 (ipykernel)",
   "language": "python",
   "name": "python3"
  },
  "language_info": {
   "codemirror_mode": {
    "name": "ipython",
    "version": 3
   },
   "file_extension": ".py",
   "mimetype": "text/x-python",
   "name": "python",
   "nbconvert_exporter": "python",
   "pygments_lexer": "ipython3",
   "version": "3.11.7"
  }
 },
 "nbformat": 4,
 "nbformat_minor": 5
}
